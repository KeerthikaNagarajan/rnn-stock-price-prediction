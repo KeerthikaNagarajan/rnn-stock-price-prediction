{
  "nbformat": 4,
  "nbformat_minor": 0,
  "metadata": {
    "colab": {
      "provenance": []
    },
    "kernelspec": {
      "name": "python3",
      "display_name": "Python 3"
    },
    "language_info": {
      "name": "python"
    }
  },
  "cells": [
    {
      "cell_type": "code",
      "execution_count": null,
      "metadata": {
        "id": "rWulUnXvE0XQ"
      },
      "outputs": [],
      "source": [
        "import numpy as np\n",
        "import matplotlib.pyplot as plt\n",
        "import pandas as pd\n",
        "from sklearn.preprocessing import MinMaxScaler\n",
        "from keras import layers\n",
        "from keras.models import Sequential"
      ]
    },
    {
      "cell_type": "code",
      "source": [
        "dataset_train = pd.read_csv('trainset.csv')\n"
      ],
      "metadata": {
        "id": "G9yM-i2fGSeD"
      },
      "execution_count": null,
      "outputs": []
    },
    {
      "cell_type": "code",
      "source": [
        "dataset_train.columns"
      ],
      "metadata": {
        "id": "ZnNFxG1yHJXj",
        "colab": {
          "base_uri": "https://localhost:8080/"
        },
        "outputId": "4391846a-2ae5-4852-f2af-f50cf5fde4b7"
      },
      "execution_count": null,
      "outputs": [
        {
          "output_type": "execute_result",
          "data": {
            "text/plain": [
              "Index(['Date', 'Open', 'High', 'Low', 'Close', 'Adj Close', 'Volume'], dtype='object')"
            ]
          },
          "metadata": {},
          "execution_count": 21
        }
      ]
    },
    {
      "cell_type": "code",
      "source": [
        "dataset_train.head()"
      ],
      "metadata": {
        "id": "ioHdtmFxHSQ5",
        "colab": {
          "base_uri": "https://localhost:8080/",
          "height": 206
        },
        "outputId": "31c921e4-acca-4e26-8ab4-dab74e2e8c65"
      },
      "execution_count": null,
      "outputs": [
        {
          "output_type": "execute_result",
          "data": {
            "text/plain": [
              "         Date        Open        High         Low       Close   Adj Close  \\\n",
              "0  2013-01-02  357.385559  361.151062  355.959839  359.288177  359.288177   \n",
              "1  2013-01-03  360.122742  363.600128  358.031342  359.496826  359.496826   \n",
              "2  2013-01-04  362.313507  368.339294  361.488861  366.600616  366.600616   \n",
              "3  2013-01-07  365.348755  367.301056  362.929504  365.001007  365.001007   \n",
              "4  2013-01-08  365.393463  365.771027  359.874359  364.280701  364.280701   \n",
              "\n",
              "    Volume  \n",
              "0  5115500  \n",
              "1  4666500  \n",
              "2  5562800  \n",
              "3  3332900  \n",
              "4  3373900  "
            ],
            "text/html": [
              "\n",
              "  <div id=\"df-a9ff5c8e-d4ba-45b7-a6ab-0b31956b8cb4\" class=\"colab-df-container\">\n",
              "    <div>\n",
              "<style scoped>\n",
              "    .dataframe tbody tr th:only-of-type {\n",
              "        vertical-align: middle;\n",
              "    }\n",
              "\n",
              "    .dataframe tbody tr th {\n",
              "        vertical-align: top;\n",
              "    }\n",
              "\n",
              "    .dataframe thead th {\n",
              "        text-align: right;\n",
              "    }\n",
              "</style>\n",
              "<table border=\"1\" class=\"dataframe\">\n",
              "  <thead>\n",
              "    <tr style=\"text-align: right;\">\n",
              "      <th></th>\n",
              "      <th>Date</th>\n",
              "      <th>Open</th>\n",
              "      <th>High</th>\n",
              "      <th>Low</th>\n",
              "      <th>Close</th>\n",
              "      <th>Adj Close</th>\n",
              "      <th>Volume</th>\n",
              "    </tr>\n",
              "  </thead>\n",
              "  <tbody>\n",
              "    <tr>\n",
              "      <th>0</th>\n",
              "      <td>2013-01-02</td>\n",
              "      <td>357.385559</td>\n",
              "      <td>361.151062</td>\n",
              "      <td>355.959839</td>\n",
              "      <td>359.288177</td>\n",
              "      <td>359.288177</td>\n",
              "      <td>5115500</td>\n",
              "    </tr>\n",
              "    <tr>\n",
              "      <th>1</th>\n",
              "      <td>2013-01-03</td>\n",
              "      <td>360.122742</td>\n",
              "      <td>363.600128</td>\n",
              "      <td>358.031342</td>\n",
              "      <td>359.496826</td>\n",
              "      <td>359.496826</td>\n",
              "      <td>4666500</td>\n",
              "    </tr>\n",
              "    <tr>\n",
              "      <th>2</th>\n",
              "      <td>2013-01-04</td>\n",
              "      <td>362.313507</td>\n",
              "      <td>368.339294</td>\n",
              "      <td>361.488861</td>\n",
              "      <td>366.600616</td>\n",
              "      <td>366.600616</td>\n",
              "      <td>5562800</td>\n",
              "    </tr>\n",
              "    <tr>\n",
              "      <th>3</th>\n",
              "      <td>2013-01-07</td>\n",
              "      <td>365.348755</td>\n",
              "      <td>367.301056</td>\n",
              "      <td>362.929504</td>\n",
              "      <td>365.001007</td>\n",
              "      <td>365.001007</td>\n",
              "      <td>3332900</td>\n",
              "    </tr>\n",
              "    <tr>\n",
              "      <th>4</th>\n",
              "      <td>2013-01-08</td>\n",
              "      <td>365.393463</td>\n",
              "      <td>365.771027</td>\n",
              "      <td>359.874359</td>\n",
              "      <td>364.280701</td>\n",
              "      <td>364.280701</td>\n",
              "      <td>3373900</td>\n",
              "    </tr>\n",
              "  </tbody>\n",
              "</table>\n",
              "</div>\n",
              "    <div class=\"colab-df-buttons\">\n",
              "\n",
              "  <div class=\"colab-df-container\">\n",
              "    <button class=\"colab-df-convert\" onclick=\"convertToInteractive('df-a9ff5c8e-d4ba-45b7-a6ab-0b31956b8cb4')\"\n",
              "            title=\"Convert this dataframe to an interactive table.\"\n",
              "            style=\"display:none;\">\n",
              "\n",
              "  <svg xmlns=\"http://www.w3.org/2000/svg\" height=\"24px\" viewBox=\"0 -960 960 960\">\n",
              "    <path d=\"M120-120v-720h720v720H120Zm60-500h600v-160H180v160Zm220 220h160v-160H400v160Zm0 220h160v-160H400v160ZM180-400h160v-160H180v160Zm440 0h160v-160H620v160ZM180-180h160v-160H180v160Zm440 0h160v-160H620v160Z\"/>\n",
              "  </svg>\n",
              "    </button>\n",
              "\n",
              "  <style>\n",
              "    .colab-df-container {\n",
              "      display:flex;\n",
              "      gap: 12px;\n",
              "    }\n",
              "\n",
              "    .colab-df-convert {\n",
              "      background-color: #E8F0FE;\n",
              "      border: none;\n",
              "      border-radius: 50%;\n",
              "      cursor: pointer;\n",
              "      display: none;\n",
              "      fill: #1967D2;\n",
              "      height: 32px;\n",
              "      padding: 0 0 0 0;\n",
              "      width: 32px;\n",
              "    }\n",
              "\n",
              "    .colab-df-convert:hover {\n",
              "      background-color: #E2EBFA;\n",
              "      box-shadow: 0px 1px 2px rgba(60, 64, 67, 0.3), 0px 1px 3px 1px rgba(60, 64, 67, 0.15);\n",
              "      fill: #174EA6;\n",
              "    }\n",
              "\n",
              "    .colab-df-buttons div {\n",
              "      margin-bottom: 4px;\n",
              "    }\n",
              "\n",
              "    [theme=dark] .colab-df-convert {\n",
              "      background-color: #3B4455;\n",
              "      fill: #D2E3FC;\n",
              "    }\n",
              "\n",
              "    [theme=dark] .colab-df-convert:hover {\n",
              "      background-color: #434B5C;\n",
              "      box-shadow: 0px 1px 3px 1px rgba(0, 0, 0, 0.15);\n",
              "      filter: drop-shadow(0px 1px 2px rgba(0, 0, 0, 0.3));\n",
              "      fill: #FFFFFF;\n",
              "    }\n",
              "  </style>\n",
              "\n",
              "    <script>\n",
              "      const buttonEl =\n",
              "        document.querySelector('#df-a9ff5c8e-d4ba-45b7-a6ab-0b31956b8cb4 button.colab-df-convert');\n",
              "      buttonEl.style.display =\n",
              "        google.colab.kernel.accessAllowed ? 'block' : 'none';\n",
              "\n",
              "      async function convertToInteractive(key) {\n",
              "        const element = document.querySelector('#df-a9ff5c8e-d4ba-45b7-a6ab-0b31956b8cb4');\n",
              "        const dataTable =\n",
              "          await google.colab.kernel.invokeFunction('convertToInteractive',\n",
              "                                                    [key], {});\n",
              "        if (!dataTable) return;\n",
              "\n",
              "        const docLinkHtml = 'Like what you see? Visit the ' +\n",
              "          '<a target=\"_blank\" href=https://colab.research.google.com/notebooks/data_table.ipynb>data table notebook</a>'\n",
              "          + ' to learn more about interactive tables.';\n",
              "        element.innerHTML = '';\n",
              "        dataTable['output_type'] = 'display_data';\n",
              "        await google.colab.output.renderOutput(dataTable, element);\n",
              "        const docLink = document.createElement('div');\n",
              "        docLink.innerHTML = docLinkHtml;\n",
              "        element.appendChild(docLink);\n",
              "      }\n",
              "    </script>\n",
              "  </div>\n",
              "\n",
              "\n",
              "<div id=\"df-aaae7c0d-6b8f-432e-81f4-4821012b38a4\">\n",
              "  <button class=\"colab-df-quickchart\" onclick=\"quickchart('df-aaae7c0d-6b8f-432e-81f4-4821012b38a4')\"\n",
              "            title=\"Suggest charts.\"\n",
              "            style=\"display:none;\">\n",
              "\n",
              "<svg xmlns=\"http://www.w3.org/2000/svg\" height=\"24px\"viewBox=\"0 0 24 24\"\n",
              "     width=\"24px\">\n",
              "    <g>\n",
              "        <path d=\"M19 3H5c-1.1 0-2 .9-2 2v14c0 1.1.9 2 2 2h14c1.1 0 2-.9 2-2V5c0-1.1-.9-2-2-2zM9 17H7v-7h2v7zm4 0h-2V7h2v10zm4 0h-2v-4h2v4z\"/>\n",
              "    </g>\n",
              "</svg>\n",
              "  </button>\n",
              "\n",
              "<style>\n",
              "  .colab-df-quickchart {\n",
              "      --bg-color: #E8F0FE;\n",
              "      --fill-color: #1967D2;\n",
              "      --hover-bg-color: #E2EBFA;\n",
              "      --hover-fill-color: #174EA6;\n",
              "      --disabled-fill-color: #AAA;\n",
              "      --disabled-bg-color: #DDD;\n",
              "  }\n",
              "\n",
              "  [theme=dark] .colab-df-quickchart {\n",
              "      --bg-color: #3B4455;\n",
              "      --fill-color: #D2E3FC;\n",
              "      --hover-bg-color: #434B5C;\n",
              "      --hover-fill-color: #FFFFFF;\n",
              "      --disabled-bg-color: #3B4455;\n",
              "      --disabled-fill-color: #666;\n",
              "  }\n",
              "\n",
              "  .colab-df-quickchart {\n",
              "    background-color: var(--bg-color);\n",
              "    border: none;\n",
              "    border-radius: 50%;\n",
              "    cursor: pointer;\n",
              "    display: none;\n",
              "    fill: var(--fill-color);\n",
              "    height: 32px;\n",
              "    padding: 0;\n",
              "    width: 32px;\n",
              "  }\n",
              "\n",
              "  .colab-df-quickchart:hover {\n",
              "    background-color: var(--hover-bg-color);\n",
              "    box-shadow: 0 1px 2px rgba(60, 64, 67, 0.3), 0 1px 3px 1px rgba(60, 64, 67, 0.15);\n",
              "    fill: var(--button-hover-fill-color);\n",
              "  }\n",
              "\n",
              "  .colab-df-quickchart-complete:disabled,\n",
              "  .colab-df-quickchart-complete:disabled:hover {\n",
              "    background-color: var(--disabled-bg-color);\n",
              "    fill: var(--disabled-fill-color);\n",
              "    box-shadow: none;\n",
              "  }\n",
              "\n",
              "  .colab-df-spinner {\n",
              "    border: 2px solid var(--fill-color);\n",
              "    border-color: transparent;\n",
              "    border-bottom-color: var(--fill-color);\n",
              "    animation:\n",
              "      spin 1s steps(1) infinite;\n",
              "  }\n",
              "\n",
              "  @keyframes spin {\n",
              "    0% {\n",
              "      border-color: transparent;\n",
              "      border-bottom-color: var(--fill-color);\n",
              "      border-left-color: var(--fill-color);\n",
              "    }\n",
              "    20% {\n",
              "      border-color: transparent;\n",
              "      border-left-color: var(--fill-color);\n",
              "      border-top-color: var(--fill-color);\n",
              "    }\n",
              "    30% {\n",
              "      border-color: transparent;\n",
              "      border-left-color: var(--fill-color);\n",
              "      border-top-color: var(--fill-color);\n",
              "      border-right-color: var(--fill-color);\n",
              "    }\n",
              "    40% {\n",
              "      border-color: transparent;\n",
              "      border-right-color: var(--fill-color);\n",
              "      border-top-color: var(--fill-color);\n",
              "    }\n",
              "    60% {\n",
              "      border-color: transparent;\n",
              "      border-right-color: var(--fill-color);\n",
              "    }\n",
              "    80% {\n",
              "      border-color: transparent;\n",
              "      border-right-color: var(--fill-color);\n",
              "      border-bottom-color: var(--fill-color);\n",
              "    }\n",
              "    90% {\n",
              "      border-color: transparent;\n",
              "      border-bottom-color: var(--fill-color);\n",
              "    }\n",
              "  }\n",
              "</style>\n",
              "\n",
              "  <script>\n",
              "    async function quickchart(key) {\n",
              "      const quickchartButtonEl =\n",
              "        document.querySelector('#' + key + ' button');\n",
              "      quickchartButtonEl.disabled = true;  // To prevent multiple clicks.\n",
              "      quickchartButtonEl.classList.add('colab-df-spinner');\n",
              "      try {\n",
              "        const charts = await google.colab.kernel.invokeFunction(\n",
              "            'suggestCharts', [key], {});\n",
              "      } catch (error) {\n",
              "        console.error('Error during call to suggestCharts:', error);\n",
              "      }\n",
              "      quickchartButtonEl.classList.remove('colab-df-spinner');\n",
              "      quickchartButtonEl.classList.add('colab-df-quickchart-complete');\n",
              "    }\n",
              "    (() => {\n",
              "      let quickchartButtonEl =\n",
              "        document.querySelector('#df-aaae7c0d-6b8f-432e-81f4-4821012b38a4 button');\n",
              "      quickchartButtonEl.style.display =\n",
              "        google.colab.kernel.accessAllowed ? 'block' : 'none';\n",
              "    })();\n",
              "  </script>\n",
              "</div>\n",
              "    </div>\n",
              "  </div>\n"
            ]
          },
          "metadata": {},
          "execution_count": 22
        }
      ]
    },
    {
      "cell_type": "code",
      "source": [
        "train_set = dataset_train.iloc[:,1:2].values"
      ],
      "metadata": {
        "id": "od_Jh97fHxsp"
      },
      "execution_count": null,
      "outputs": []
    },
    {
      "cell_type": "code",
      "source": [
        "type(train_set)"
      ],
      "metadata": {
        "id": "ipOhkvP0H8Ki",
        "colab": {
          "base_uri": "https://localhost:8080/"
        },
        "outputId": "52827e44-ca3f-4f56-99bf-1a39f5d0ece4"
      },
      "execution_count": null,
      "outputs": [
        {
          "output_type": "execute_result",
          "data": {
            "text/plain": [
              "numpy.ndarray"
            ]
          },
          "metadata": {},
          "execution_count": 24
        }
      ]
    },
    {
      "cell_type": "code",
      "source": [
        "train_set.shape"
      ],
      "metadata": {
        "id": "10qpaYabITYB",
        "colab": {
          "base_uri": "https://localhost:8080/"
        },
        "outputId": "6d313159-e607-4cd4-db89-09a039db73d7"
      },
      "execution_count": null,
      "outputs": [
        {
          "output_type": "execute_result",
          "data": {
            "text/plain": [
              "(1259, 1)"
            ]
          },
          "metadata": {},
          "execution_count": 25
        }
      ]
    },
    {
      "cell_type": "code",
      "source": [
        "sc = MinMaxScaler(feature_range=(0,1))\n",
        "training_set_scaled = sc.fit_transform(train_set)"
      ],
      "metadata": {
        "id": "Wc5QNHisIMcp"
      },
      "execution_count": null,
      "outputs": []
    },
    {
      "cell_type": "code",
      "source": [
        "training_set_scaled.shape"
      ],
      "metadata": {
        "id": "VYMccXBzjMzz",
        "colab": {
          "base_uri": "https://localhost:8080/"
        },
        "outputId": "dc7ec6fd-2deb-4506-c9aa-40ca879150d4"
      },
      "execution_count": null,
      "outputs": [
        {
          "output_type": "execute_result",
          "data": {
            "text/plain": [
              "(1259, 1)"
            ]
          },
          "metadata": {},
          "execution_count": 27
        }
      ]
    },
    {
      "cell_type": "code",
      "source": [
        "X_train_array = []\n",
        "y_train_array = []\n",
        "for i in range(60, 1259):\n",
        "  X_train_array.append(training_set_scaled[i-60:i,0])\n",
        "  y_train_array.append(training_set_scaled[i,0])\n",
        "X_train, y_train = np.array(X_train_array), np.array(y_train_array)\n",
        "X_train1 = X_train.reshape((X_train.shape[0], X_train.shape[1],1))\n"
      ],
      "metadata": {
        "id": "qO7NJjsCI1qq"
      },
      "execution_count": null,
      "outputs": []
    },
    {
      "cell_type": "code",
      "source": [
        "X_train.shape"
      ],
      "metadata": {
        "id": "0rRZyii1IWmq",
        "colab": {
          "base_uri": "https://localhost:8080/"
        },
        "outputId": "3caa40e9-279d-4a6c-cc6e-766868fa2ec2"
      },
      "execution_count": null,
      "outputs": [
        {
          "output_type": "execute_result",
          "data": {
            "text/plain": [
              "(1199, 60)"
            ]
          },
          "metadata": {},
          "execution_count": 29
        }
      ]
    },
    {
      "cell_type": "code",
      "source": [
        "length = 60\n",
        "n_features = 1"
      ],
      "metadata": {
        "id": "BknoiyHTN_tb"
      },
      "execution_count": null,
      "outputs": []
    },
    {
      "cell_type": "code",
      "source": [
        "model = Sequential()\n",
        "## Write your code here\n",
        "model.add(layers.SimpleRNN(50,input_shape=(length,n_features)))\n",
        "model.add(layers.Dense(1))\n",
        "model.compile(optimizer='adam', loss='mse')"
      ],
      "metadata": {
        "id": "tb1wq3smJuDF"
      },
      "execution_count": null,
      "outputs": []
    },
    {
      "cell_type": "code",
      "source": [
        "model.summary()"
      ],
      "metadata": {
        "id": "RmitWR-Qk500"
      },
      "execution_count": null,
      "outputs": []
    },
    {
      "cell_type": "code",
      "source": [
        "model.fit(X_train1,y_train,epochs=100, batch_size=32)"
      ],
      "metadata": {
        "id": "fXZtPWTgO5T7",
        "colab": {
          "base_uri": "https://localhost:8080/"
        },
        "outputId": "0d332f04-f563-4a6b-a2bb-f453fbdee84a"
      },
      "execution_count": null,
      "outputs": [
        {
          "output_type": "stream",
          "name": "stdout",
          "text": [
            "Epoch 1/100\n",
            "38/38 [==============================] - 4s 26ms/step - loss: 0.0132\n",
            "Epoch 2/100\n",
            "38/38 [==============================] - 1s 17ms/step - loss: 8.1043e-04\n",
            "Epoch 3/100\n",
            "38/38 [==============================] - 1s 16ms/step - loss: 6.6471e-04\n",
            "Epoch 4/100\n",
            "38/38 [==============================] - 1s 17ms/step - loss: 5.6917e-04\n",
            "Epoch 5/100\n",
            "38/38 [==============================] - 1s 16ms/step - loss: 4.9977e-04\n",
            "Epoch 6/100\n",
            "38/38 [==============================] - 1s 16ms/step - loss: 5.3246e-04\n",
            "Epoch 7/100\n",
            "38/38 [==============================] - 1s 16ms/step - loss: 4.8056e-04\n",
            "Epoch 8/100\n",
            "38/38 [==============================] - 1s 16ms/step - loss: 4.1723e-04\n",
            "Epoch 9/100\n",
            "38/38 [==============================] - 1s 16ms/step - loss: 4.2193e-04\n",
            "Epoch 10/100\n",
            "38/38 [==============================] - 1s 16ms/step - loss: 3.8786e-04\n",
            "Epoch 11/100\n",
            "38/38 [==============================] - 1s 17ms/step - loss: 3.3629e-04\n",
            "Epoch 12/100\n",
            "38/38 [==============================] - 1s 17ms/step - loss: 3.3430e-04\n",
            "Epoch 13/100\n",
            "38/38 [==============================] - 1s 16ms/step - loss: 3.6332e-04\n",
            "Epoch 14/100\n",
            "38/38 [==============================] - 1s 16ms/step - loss: 3.1011e-04\n",
            "Epoch 15/100\n",
            "38/38 [==============================] - 1s 16ms/step - loss: 3.0957e-04\n",
            "Epoch 16/100\n",
            "38/38 [==============================] - 1s 16ms/step - loss: 3.0968e-04\n",
            "Epoch 17/100\n",
            "38/38 [==============================] - 1s 19ms/step - loss: 2.9074e-04\n",
            "Epoch 18/100\n",
            "38/38 [==============================] - 1s 31ms/step - loss: 2.5474e-04\n",
            "Epoch 19/100\n",
            "38/38 [==============================] - 1s 31ms/step - loss: 2.4815e-04\n",
            "Epoch 20/100\n",
            "38/38 [==============================] - 1s 19ms/step - loss: 2.7623e-04\n",
            "Epoch 21/100\n",
            "38/38 [==============================] - 1s 16ms/step - loss: 2.4433e-04\n",
            "Epoch 22/100\n",
            "38/38 [==============================] - 1s 16ms/step - loss: 2.5406e-04\n",
            "Epoch 23/100\n",
            "38/38 [==============================] - 1s 17ms/step - loss: 2.3761e-04\n",
            "Epoch 24/100\n",
            "38/38 [==============================] - 1s 16ms/step - loss: 2.7050e-04\n",
            "Epoch 25/100\n",
            "38/38 [==============================] - 1s 17ms/step - loss: 2.5452e-04\n",
            "Epoch 26/100\n",
            "38/38 [==============================] - 1s 17ms/step - loss: 2.4784e-04\n",
            "Epoch 27/100\n",
            "38/38 [==============================] - 1s 16ms/step - loss: 2.4062e-04\n",
            "Epoch 28/100\n",
            "38/38 [==============================] - 1s 21ms/step - loss: 2.3051e-04\n",
            "Epoch 29/100\n",
            "38/38 [==============================] - 1s 22ms/step - loss: 2.5732e-04\n",
            "Epoch 30/100\n",
            "38/38 [==============================] - 1s 16ms/step - loss: 2.6416e-04\n",
            "Epoch 31/100\n",
            "38/38 [==============================] - 1s 17ms/step - loss: 2.4296e-04\n",
            "Epoch 32/100\n",
            "38/38 [==============================] - 1s 17ms/step - loss: 2.2653e-04\n",
            "Epoch 33/100\n",
            "38/38 [==============================] - 1s 17ms/step - loss: 2.2833e-04\n",
            "Epoch 34/100\n",
            "38/38 [==============================] - 1s 17ms/step - loss: 2.1068e-04\n",
            "Epoch 35/100\n",
            "38/38 [==============================] - 1s 26ms/step - loss: 2.4423e-04\n",
            "Epoch 36/100\n",
            "38/38 [==============================] - 1s 30ms/step - loss: 2.4486e-04\n",
            "Epoch 37/100\n",
            "38/38 [==============================] - 1s 28ms/step - loss: 2.3859e-04\n",
            "Epoch 38/100\n",
            "38/38 [==============================] - 1s 33ms/step - loss: 2.6899e-04\n",
            "Epoch 39/100\n",
            "38/38 [==============================] - 1s 35ms/step - loss: 2.2830e-04\n",
            "Epoch 40/100\n",
            "38/38 [==============================] - 1s 36ms/step - loss: 2.8271e-04\n",
            "Epoch 41/100\n",
            "38/38 [==============================] - 1s 25ms/step - loss: 2.2366e-04\n",
            "Epoch 42/100\n",
            "38/38 [==============================] - 1s 16ms/step - loss: 2.1320e-04\n",
            "Epoch 43/100\n",
            "38/38 [==============================] - 1s 23ms/step - loss: 2.1497e-04\n",
            "Epoch 44/100\n",
            "38/38 [==============================] - 1s 32ms/step - loss: 2.4200e-04\n",
            "Epoch 45/100\n",
            "38/38 [==============================] - 1s 17ms/step - loss: 2.7048e-04\n",
            "Epoch 46/100\n",
            "38/38 [==============================] - 1s 16ms/step - loss: 2.0529e-04\n",
            "Epoch 47/100\n",
            "38/38 [==============================] - 1s 16ms/step - loss: 2.3300e-04\n",
            "Epoch 48/100\n",
            "38/38 [==============================] - 1s 22ms/step - loss: 2.1525e-04\n",
            "Epoch 49/100\n",
            "38/38 [==============================] - 1s 38ms/step - loss: 2.1179e-04\n",
            "Epoch 50/100\n",
            "38/38 [==============================] - 2s 43ms/step - loss: 2.0183e-04\n",
            "Epoch 51/100\n",
            "38/38 [==============================] - 1s 21ms/step - loss: 1.9515e-04\n",
            "Epoch 52/100\n",
            "38/38 [==============================] - 1s 16ms/step - loss: 1.9168e-04\n",
            "Epoch 53/100\n",
            "38/38 [==============================] - 1s 16ms/step - loss: 2.4149e-04\n",
            "Epoch 54/100\n",
            "38/38 [==============================] - 1s 17ms/step - loss: 2.0310e-04\n",
            "Epoch 55/100\n",
            "38/38 [==============================] - 1s 15ms/step - loss: 1.9229e-04\n",
            "Epoch 56/100\n",
            "38/38 [==============================] - 1s 17ms/step - loss: 1.8369e-04\n",
            "Epoch 57/100\n",
            "38/38 [==============================] - 1s 17ms/step - loss: 2.3577e-04\n",
            "Epoch 58/100\n",
            "38/38 [==============================] - 1s 16ms/step - loss: 2.0684e-04\n",
            "Epoch 59/100\n",
            "38/38 [==============================] - 1s 24ms/step - loss: 2.2556e-04\n",
            "Epoch 60/100\n",
            "38/38 [==============================] - 1s 30ms/step - loss: 2.1515e-04\n",
            "Epoch 61/100\n",
            "38/38 [==============================] - 1s 17ms/step - loss: 1.9288e-04\n",
            "Epoch 62/100\n",
            "38/38 [==============================] - 1s 16ms/step - loss: 2.0270e-04\n",
            "Epoch 63/100\n",
            "38/38 [==============================] - 1s 17ms/step - loss: 2.0164e-04\n",
            "Epoch 64/100\n",
            "38/38 [==============================] - 1s 25ms/step - loss: 1.9230e-04\n",
            "Epoch 65/100\n",
            "38/38 [==============================] - 1s 30ms/step - loss: 2.1402e-04\n",
            "Epoch 66/100\n",
            "38/38 [==============================] - 1s 29ms/step - loss: 2.0818e-04\n",
            "Epoch 67/100\n",
            "38/38 [==============================] - 1s 17ms/step - loss: 2.3949e-04\n",
            "Epoch 68/100\n",
            "38/38 [==============================] - 1s 16ms/step - loss: 1.8627e-04\n",
            "Epoch 69/100\n",
            "38/38 [==============================] - 1s 16ms/step - loss: 2.2635e-04\n",
            "Epoch 70/100\n",
            "38/38 [==============================] - 1s 17ms/step - loss: 1.8404e-04\n",
            "Epoch 71/100\n",
            "38/38 [==============================] - 1s 16ms/step - loss: 1.9537e-04\n",
            "Epoch 72/100\n",
            "38/38 [==============================] - 1s 16ms/step - loss: 1.7339e-04\n",
            "Epoch 73/100\n",
            "38/38 [==============================] - 1s 17ms/step - loss: 1.7676e-04\n",
            "Epoch 74/100\n",
            "38/38 [==============================] - 1s 17ms/step - loss: 1.7621e-04\n",
            "Epoch 75/100\n",
            "38/38 [==============================] - 1s 16ms/step - loss: 2.1389e-04\n",
            "Epoch 76/100\n",
            "38/38 [==============================] - 1s 25ms/step - loss: 1.9667e-04\n",
            "Epoch 77/100\n",
            "38/38 [==============================] - 1s 24ms/step - loss: 2.0421e-04\n",
            "Epoch 78/100\n",
            "38/38 [==============================] - 1s 17ms/step - loss: 2.2840e-04\n",
            "Epoch 79/100\n",
            "38/38 [==============================] - 1s 16ms/step - loss: 1.8710e-04\n",
            "Epoch 80/100\n",
            "38/38 [==============================] - 1s 17ms/step - loss: 1.8880e-04\n",
            "Epoch 81/100\n",
            "38/38 [==============================] - 1s 19ms/step - loss: 1.8474e-04\n",
            "Epoch 82/100\n",
            "38/38 [==============================] - 1s 31ms/step - loss: 2.1871e-04\n",
            "Epoch 83/100\n",
            "38/38 [==============================] - 1s 31ms/step - loss: 1.7935e-04\n",
            "Epoch 84/100\n",
            "38/38 [==============================] - 1s 20ms/step - loss: 2.0574e-04\n",
            "Epoch 85/100\n",
            "38/38 [==============================] - 1s 16ms/step - loss: 1.9721e-04\n",
            "Epoch 86/100\n",
            "38/38 [==============================] - 1s 16ms/step - loss: 2.0187e-04\n",
            "Epoch 87/100\n",
            "38/38 [==============================] - 1s 17ms/step - loss: 1.8540e-04\n",
            "Epoch 88/100\n",
            "38/38 [==============================] - 1s 16ms/step - loss: 1.9628e-04\n",
            "Epoch 89/100\n",
            "38/38 [==============================] - 1s 17ms/step - loss: 1.9524e-04\n",
            "Epoch 90/100\n",
            "38/38 [==============================] - 1s 16ms/step - loss: 1.7562e-04\n",
            "Epoch 91/100\n",
            "38/38 [==============================] - 1s 16ms/step - loss: 1.9752e-04\n",
            "Epoch 92/100\n",
            "38/38 [==============================] - 1s 16ms/step - loss: 1.9066e-04\n",
            "Epoch 93/100\n",
            "38/38 [==============================] - 1s 16ms/step - loss: 2.2095e-04\n",
            "Epoch 94/100\n",
            "38/38 [==============================] - 1s 16ms/step - loss: 1.8826e-04\n",
            "Epoch 95/100\n",
            "38/38 [==============================] - 1s 17ms/step - loss: 2.1308e-04\n",
            "Epoch 96/100\n",
            "38/38 [==============================] - 1s 16ms/step - loss: 1.8171e-04\n",
            "Epoch 97/100\n",
            "38/38 [==============================] - 1s 17ms/step - loss: 2.1899e-04\n",
            "Epoch 98/100\n",
            "38/38 [==============================] - 1s 16ms/step - loss: 2.1518e-04\n",
            "Epoch 99/100\n",
            "38/38 [==============================] - 1s 17ms/step - loss: 1.9627e-04\n",
            "Epoch 100/100\n",
            "38/38 [==============================] - 1s 26ms/step - loss: 1.7992e-04\n"
          ]
        },
        {
          "output_type": "execute_result",
          "data": {
            "text/plain": [
              "<keras.src.callbacks.History at 0x7950cbff64d0>"
            ]
          },
          "metadata": {},
          "execution_count": 18
        }
      ]
    },
    {
      "cell_type": "code",
      "source": [
        "dataset_test = pd.read_csv('testset.csv')"
      ],
      "metadata": {
        "id": "OJzVwjRmPqDb"
      },
      "execution_count": null,
      "outputs": []
    },
    {
      "cell_type": "code",
      "source": [
        "test_set = dataset_test.iloc[:,1:2].values"
      ],
      "metadata": {
        "id": "JPrrd1n-Px7o"
      },
      "execution_count": null,
      "outputs": []
    },
    {
      "cell_type": "code",
      "source": [
        "test_set.shape"
      ],
      "metadata": {
        "id": "WQgU2aH0bHZy",
        "colab": {
          "base_uri": "https://localhost:8080/"
        },
        "outputId": "8f54d084-90c4-404f-d4ff-de0c1dab6156"
      },
      "execution_count": null,
      "outputs": [
        {
          "output_type": "execute_result",
          "data": {
            "text/plain": [
              "(125, 1)"
            ]
          },
          "metadata": {},
          "execution_count": 35
        }
      ]
    },
    {
      "cell_type": "code",
      "source": [
        "dataset_total = pd.concat((dataset_train['Open'],dataset_test['Open']),axis=0)"
      ],
      "metadata": {
        "id": "jqBvI7uQa8dz"
      },
      "execution_count": null,
      "outputs": []
    },
    {
      "cell_type": "code",
      "source": [
        "inputs = dataset_total.values\n",
        "inputs = inputs.reshape(-1,1)\n",
        "inputs_scaled=sc.transform(inputs)\n",
        "X_test = []\n",
        "for i in range(60,1384):\n",
        "  X_test.append(inputs_scaled[i-60:i,0])\n",
        "X_test = np.array(X_test)\n",
        "X_test = np.reshape(X_test,(X_test.shape[0], X_test.shape[1],1))"
      ],
      "metadata": {
        "id": "V6w4Dq01QJXk"
      },
      "execution_count": null,
      "outputs": []
    },
    {
      "cell_type": "code",
      "source": [
        "X_test.shape"
      ],
      "metadata": {
        "id": "zup_dSFXbqed",
        "colab": {
          "base_uri": "https://localhost:8080/"
        },
        "outputId": "0f6ce9f4-3d74-4f17-8c9f-a9d0a6361a65"
      },
      "execution_count": null,
      "outputs": [
        {
          "output_type": "execute_result",
          "data": {
            "text/plain": [
              "(1324, 60, 1)"
            ]
          },
          "metadata": {},
          "execution_count": 38
        }
      ]
    },
    {
      "cell_type": "code",
      "source": [
        "predicted_stock_price_scaled = model.predict(X_test)\n",
        "predicted_stock_price = sc.inverse_transform(predicted_stock_price_scaled)"
      ],
      "metadata": {
        "id": "M02bWmdhRneT",
        "colab": {
          "base_uri": "https://localhost:8080/"
        },
        "outputId": "21d6af9d-d08d-46ab-dfce-4dc6cf1cea70"
      },
      "execution_count": null,
      "outputs": [
        {
          "output_type": "stream",
          "name": "stdout",
          "text": [
            "42/42 [==============================] - 0s 4ms/step\n"
          ]
        }
      ]
    },
    {
      "cell_type": "code",
      "source": [
        "plt.plot(np.arange(0,1384),inputs, color='red', label = 'Test(Real) Google stock price')\n",
        "plt.plot(np.arange(60,1384),predicted_stock_price, color='blue', label = 'Predicted Google stock price')\n",
        "plt.title('Google Stock Price Prediction')\n",
        "plt.xlabel('Time')\n",
        "plt.ylabel('Google Stock Price')\n",
        "plt.legend()\n",
        "plt.show()"
      ],
      "metadata": {
        "id": "60GZR-9ZR34C",
        "colab": {
          "base_uri": "https://localhost:8080/",
          "height": 472
        },
        "outputId": "5c4212ad-c38b-493d-f5b4-bbfbde7c158c"
      },
      "execution_count": null,
      "outputs": [
        {
          "output_type": "display_data",
          "data": {
            "text/plain": [
              "<Figure size 640x480 with 1 Axes>"
            ],
            "image/png": "[encoded data removed]"
          },
          "metadata": {}
        }
      ]
    }
  ]
}